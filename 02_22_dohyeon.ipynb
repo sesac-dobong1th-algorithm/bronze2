{
 "cells": [
  {
   "cell_type": "markdown",
   "metadata": {},
   "source": [

    "문제는 숫자 카드 놀이라고 해서\n",
    "\n",
    "입력은 여러 테스트 케이스로 이루어져 있다. 각 테스트 케이스는 숫자 카드놀이의 시작값 S로 이루어져 있다. (1 ≤ S ≤ 100000) S는 0으로 시작하지 않으며, 입력의 마지막 줄에는 0이 하나 주어진다.\n",
    "\n",

    "\n",
    "우선 전체적인 틀 : while로 무한 반복 하게 하고 0이 입력될시 정지하도록 설정\n",
    "\n",
    "각 자리 곱셈 저장될 값을 정함. 나는 request 라는 변수로 설정\n",
    "\n",
    "보통 print() 하면 자동으로 \\n 처리 되어 줄칸이 나눠져 문제가 생김 ==> end = ' ' 처리로 한줄로 표현\n",
    "\n",
    "그 다음엔 간단하다. request를 만들고 리퀘스트를 갱신하고 계속 프린트를 해주면 그만.\n"
   ]
  },
  {
   "cell_type": "code",
   "execution_count": null,
   "metadata": {},
   "outputs": [],
   "source": [
    "number = str(input())\n",
    "while (number != '0'):\n",
    "    while len(number) > 1:\n",
    "        resquest = 1\n",
    "        print(number, end=' ')\n",
    "        for c in number:\n",
    "            resquest *= int(c)\n",
    "        number = str(resquest)\n",
    "    print(number)\n",
    "    number = str(input())"
   ]
  }
 ],
 "metadata": {
  "language_info": {
   "name": "python"
  }
 },
 "nbformat": 4,
 "nbformat_minor": 2
}
